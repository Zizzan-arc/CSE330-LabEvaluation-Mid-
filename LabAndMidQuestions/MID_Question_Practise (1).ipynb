{
  "nbformat": 4,
  "nbformat_minor": 0,
  "metadata": {
    "colab": {
      "provenance": []
    },
    "kernelspec": {
      "name": "python3",
      "display_name": "Python 3"
    },
    "language_info": {
      "name": "python"
    }
  },
  "cells": [
    {
      "cell_type": "markdown",
      "source": [],
      "metadata": {
        "id": "i88yY_nw3UXK"
      }
    },
    {
      "cell_type": "markdown",
      "source": [
        "# **Question: 01** (2 Marks)\n",
        "\n",
        "Let, $$f(x) = x^5 + 2.5x^4 - 2x^3 -6x^2 + x + 2\\tag{2.1}$$\n",
        "\n",
        "a. Find f(2)\n",
        "\n",
        "b. Find f'(2)\n",
        "\n",
        "Do not hardcode. Use Polynomial class."
      ],
      "metadata": {
        "id": "7o1j2QS03V5i"
      }
    },
    {
      "cell_type": "code",
      "execution_count": null,
      "metadata": {
        "id": "pVdcXx-AewvZ"
      },
      "outputs": [],
      "source": [
        "import numpy as np\n",
        "import pandas as pd\n",
        "import matplotlib.pyplot as plt\n",
        "from numpy.polynomial import Polynomial"
      ]
    },
    {
      "cell_type": "code",
      "source": [
        "#1st Mid question\n",
        "#Question 1\n",
        "coeff=([2, 1, -6, -2, 2.5, 1])\n",
        "p=Polynomial(coeff)\n",
        "eval_actual=p(2)\n",
        "print(eval_actual)\n",
        "print()\n",
        "p_prime=p.deriv(1)\n",
        "eval_deriv=p_prime(2)\n",
        "print(eval_deriv)\n",
        "print()"
      ],
      "metadata": {
        "colab": {
          "base_uri": "https://localhost:8080/"
        },
        "id": "MLnOIwFXe1EH",
        "outputId": "35920279-ad52-4b4e-92fd-5b4c67e85204"
      },
      "execution_count": null,
      "outputs": [
        {
          "output_type": "stream",
          "name": "stdout",
          "text": [
            "36.0\n",
            "\n",
            "113.0\n",
            "\n"
          ]
        }
      ]
    },
    {
      "cell_type": "markdown",
      "source": [
        "## Question 04 **[3 + 3 = 6 Marks]**\n",
        "\n",
        "\n",
        "Suppose there is a function, $$ f(x) = x^4 + 3x^3 +2x^2 - 2x + 15$$\n",
        "\n",
        "To analyze the behavior of the Absolute Error when approximating the derivative of the function at **$ x = 5 $** using **Central Difference**, you have to **determine the minimum value of h** that ensures the absolute error stays below a given **tolerance threshold of 0.002463**. Additionally, **calculate how many reductions of $ℎ$** are required to meet this condition.\n",
        "\n",
        "As you already know,\n",
        "1. Central Difference, $f^\\prime(x) = \\frac{f(x+h)-f(x-h)}{2*h}$\n",
        "2. Absolute error = |Actual derivative - Approximate derivative|\n",
        "\n",
        "You should start with an **initial step size of $ℎ = 0.5$** and iteratively **reduce $ℎ$ by one-third**, if necessary, until the error condition is satisfied.\n",
        "\n",
        "**Hint:** You have to use **Polynomial class** from the **numpy** library to define the function, $f(x)$ and Your output should clearly state the **minimum $ℎ$** and the **total number of reductions** required to achieve the desired accuracy.\n"
      ],
      "metadata": {
        "id": "kOedUpiI3bm6"
      }
    },
    {
      "cell_type": "code",
      "source": [
        "#Question 4\n",
        "def central_diff(f,h,x):\n",
        "  return ((f(x+h)-f(x-h))/(2*h))\n",
        "\n",
        "coeff=[15, -2, 2, 3, 1]\n",
        "poly=Polynomial(coeff)\n",
        "p_prime=poly.deriv(1)\n",
        "\n",
        "h=0.5\n",
        "threshold_val=0.002463\n",
        "iterations=0\n",
        "x_val=5\n",
        "exact_val=p_prime(x_val)\n",
        "while True:\n",
        "  approx=central_diff(poly,h,x_val)\n",
        "  error=abs(exact_val-approx)\n",
        "  if error>threshold_val:\n",
        "    h=h/3\n",
        "    iterations+=1\n",
        "  else :\n",
        "    break\n",
        "\n",
        "print(f\"Number of iterations required :\",iterations)\n",
        "print(f\"Minimum h to achieve |error| < {threshold_val} : {h:.12e}\")\n"
      ],
      "metadata": {
        "colab": {
          "base_uri": "https://localhost:8080/"
        },
        "id": "vPeKMZmFfkAP",
        "outputId": "7d04c071-17f6-4db6-bd85-3d7ca56f5230"
      },
      "execution_count": null,
      "outputs": [
        {
          "output_type": "stream",
          "name": "stdout",
          "text": [
            "Number of iterations required : 4\n",
            "Minimum h to achieve |error| < 0.002463 : 6.172839506173e-03\n"
          ]
        }
      ]
    },
    {
      "cell_type": "markdown",
      "source": [
        "# **Question: 2**\n",
        "\n",
        "You are given data points for a function, and you are required to apply Newton’s Divided Difference Interpolation to:\n",
        "\n",
        "\n",
        "*   construct the interpolation polynomial\n",
        "*   evaluate the interpolated value at a given point\n",
        "\n",
        "\n",
        "Data Points:\n",
        "\n",
        "x = [-1, 0, 1, 2]\n",
        "\n",
        "y = [0.5, 3, 1.5, 8]\n",
        "\n",
        "**Task (i) (3 Marks):**\n",
        "\n",
        "Write a Python function divided_diff_table(x, y, n) that builds the divided difference table and returns the coefficients of the Newton polynomial.\n",
        "\n",
        "**Task (ii) (3 Marks):**\n",
        "\n",
        "Use the function from Task (i) to compute the interpolated value of the polynomial at x = 7. Also, display the coefficients of the Newton polynomial."
      ],
      "metadata": {
        "id": "Mh9-Ml5t3hWa"
      }
    },
    {
      "cell_type": "code",
      "source": [
        "#Question 2\n",
        "def  divided_diff_table(x, y, n):\n",
        "  coeff=np.zeros((n,n))\n",
        "  coeff[:,0]=y\n",
        "  for col in range(1, n): # Start from the second column\n",
        "    for row in range(n - col): # Adjust the range for the inner loop\n",
        "      coeff[row,col]=((coeff[row+1][col-1])-(coeff[row][col-1]))/(x[row+col]-x[row])\n",
        "\n",
        "  return coeff[0]\n",
        "\n",
        "\n",
        "data_x=np.array([-1, 0, 1, 2])\n",
        "data_y=np.array([0.5, 3, 1.5, 8])\n",
        "n=len(data_x)\n",
        "x_val=np.array([7])\n",
        "differences=divided_diff_table(data_x,data_y,n)\n",
        "print(\"Newtons Coefficent : \" , differences)\n",
        "\n",
        "def get_newtons_polynomial(coeff,x_val):\n",
        "  result=np.zeros(len(x_val))\n",
        "  for i in range(len(x_val)):\n",
        "    result[i]+=coeff[0]\n",
        "    product=1.00\n",
        "    for j in range(1,len(coeff)):\n",
        "      product*=(x_val[i]-data_x[j-1])\n",
        "      result[i]+=coeff[j]*product\n",
        "  return result\n",
        "\n",
        "p=get_newtons_polynomial(differences,x_val)\n",
        "print(\"Newtons Polynomial Interpolated value : \",p)\n",
        "\n",
        "def  get_newtons_polynomial_coefficient(coeff,data_x):\n",
        "  f=Polynomial([0.00])\n",
        "  product=Polynomial([1.00])\n",
        "  for i in range(len(data_x)):\n",
        "    f+=coeff[i]*product\n",
        "    product*=Polynomial([-data_x[i],1]) # Corrected line\n",
        "\n",
        "  return f\n",
        "\n",
        "poly=get_newtons_polynomial_coefficient(differences,data_x)\n",
        "print(\"Newtons Polynomial Coefficent : \",poly)"
      ],
      "metadata": {
        "colab": {
          "base_uri": "https://localhost:8080/"
        },
        "id": "Nkagm6eQixlF",
        "outputId": "16690c4d-eba1-491c-804a-2bd5777267f9"
      },
      "execution_count": null,
      "outputs": [
        {
          "output_type": "stream",
          "name": "stdout",
          "text": [
            "Newtons Coefficent :  [ 0.5  2.5 -2.   2. ]\n",
            "Newtons Polynomial Interpolated value :  [580.5]\n",
            "Newtons Polynomial Coefficent :  3.0 - 1.5·x - 2.0·x² + 2.0·x³\n"
          ]
        }
      ]
    },
    {
      "cell_type": "markdown",
      "source": [
        "# **Question 3:**\n",
        "\n",
        "You are given the following data points:\n",
        "\n",
        "x = [0, 1, 2]\n",
        "\n",
        "y = [1, 3, 2]\n",
        "\n",
        "You are required to use the Vandermonde matrix method for polynomial interpolation.\n",
        "\n",
        "**Task (i) (3 Marks):**\n",
        "\n",
        "Construct the Vandermonde matrix for the given data points and compute the coefficients of the interpolating polynomial.\n",
        "\n",
        "**Task (ii) (3 Marks):**\n",
        "\n",
        "Using the polynomial coefficients from Task (i):\n",
        "\n",
        "\n",
        "1.   Evaluate the interpolated value at x = 1.5.\n",
        "2.   Plot the original data points and the interpolated polynomial over the interval x = 0 to x = 2.\n"
      ],
      "metadata": {
        "id": "pFJncVWF3lfK"
      }
    },
    {
      "cell_type": "code",
      "source": [
        "#Question 3\n",
        "def get_poly(data_x,data_y):\n",
        "  n=len(data_x)\n",
        "  coeff_matrix=np.zeros((n,n))\n",
        "  for i in range(n):\n",
        "    for j in range(n):\n",
        "      coeff_matrix[i][j]=data_x[i]**j\n",
        "\n",
        "  coeff_matrix_inv=np.linalg.pinv(coeff_matrix)\n",
        "  a=np.dot(coeff_matrix_inv,data_y)\n",
        "  poly=Polynomial(a)\n",
        "  return poly\n",
        "\n",
        "data_x=np.array([0, 1, 2])\n",
        "data_y=np.array([1, 3, 2])\n",
        "p=get_poly(data_x,data_y)\n",
        "print(p)\n",
        "result=p(1.5)\n",
        "print(\" Interpolated value :\", result)"
      ],
      "metadata": {
        "colab": {
          "base_uri": "https://localhost:8080/"
        },
        "id": "zs4mO10wn-Ui",
        "outputId": "41425319-417c-46e4-dad2-f96852d23287"
      },
      "execution_count": null,
      "outputs": [
        {
          "output_type": "stream",
          "name": "stdout",
          "text": [
            "1.0 + 3.5·x - 1.5·x²\n",
            " Interpolated value : 2.874999999999998\n"
          ]
        }
      ]
    },
    {
      "cell_type": "code",
      "source": [
        "x_data=np.linspace(0,2,50)\n",
        "y_data=p(x_data)\n",
        "plt.plot(x_data,y_data)\n",
        "plt.plot(data_x,data_y,'ro')\n",
        "plt.grid(True)\n",
        "\n",
        "\n",
        "\n"
      ],
      "metadata": {
        "colab": {
          "base_uri": "https://localhost:8080/",
          "height": 430
        },
        "id": "zUaECwzgpNs6",
        "outputId": "a178ed87-822d-4c96-b27c-740e3cde74b7"
      },
      "execution_count": null,
      "outputs": [
        {
          "output_type": "display_data",
          "data": {
            "text/plain": [
              "<Figure size 640x480 with 1 Axes>"
            ],
            "image/png": "[encoded data removed]"
          },
          "metadata": {}
        }
      ]
    },
    {
      "cell_type": "markdown",
      "source": [
        "# **Question: 1**\n",
        "\n",
        "\n",
        "Let $f(x)$ be a function of $x$.\n",
        "\n",
        "$$f(x) = x^5 + 2.5x^4 - 2x^3 -6x^2 + x + 2\\tag{1.1}$$\n",
        "\n",
        "a. [1.5 Marks] Plot the function for $$-2.5 \\le x \\le 1.5$$\n",
        "\n",
        "b. [2 Marks] What is the actual slope of $f(x)$ at $x = 0 , -1.18625$ ?  Print $f'(x)$ and plot $f'(x)$ at $ -2 \\le x \\le 1.2$.\n",
        "\n",
        "For c to e, assume step size is $0.1$.\n",
        "\n",
        "c. [1.5 Marks] Use forward differntiation to figure out the slope at $x = 0 , -1.18625$.\n",
        "\n",
        "d. [1.5 Marks] Use backward differntiation to figure out the slope at $x = 0 , -1.18625$.\n",
        "\n",
        "e. [1.5 Marks] Use central differntiation to figure out the slope at $x = 0 , -1.18625$."
      ],
      "metadata": {
        "id": "XrQGMvgQ3uIp"
      }
    },
    {
      "cell_type": "code",
      "source": [
        "#2nd Mid question\n",
        "import numpy as np\n",
        "import pandas as pd\n",
        "import matplotlib.pyplot as plt\n",
        "from numpy.polynomial import Polynomial"
      ],
      "metadata": {
        "id": "XdNA-Yy1rCEg"
      },
      "execution_count": null,
      "outputs": []
    },
    {
      "cell_type": "code",
      "source": [
        "#Question 1\n",
        "#a\n",
        "p1=Polynomial([2,1,-6,-2,2.5,1])\n",
        "x_data1=np.linspace(-2.5,1.5,40)\n",
        "y_data1=p1(x_data1)\n",
        "plt.plot(x_data1, y_data1,label='function')\n",
        "\n",
        "#b\n",
        "p1_prime=p1.deriv(1)\n",
        "print(f\" f'(x) : {p1_prime} \\n\")\n",
        "x_val=np.array([0,-1.18625])\n",
        "\n",
        "for x in x_val:\n",
        "\n",
        "  print(f\"Exact value at {x} :\",p1_prime(x))\n",
        "\n",
        "print()\n",
        "x_data2=x_data= np.linspace(-2,1.2,100)\n",
        "y_data2=p1_prime(x_data2)\n",
        "plt.plot(x_data2,y_data2,label='derivative')\n",
        "plt.legend();\n",
        "##2 ta graph eksthe kora, but you can do seperately also\n",
        "\n",
        "##Rest of the questions are sameee\n",
        "##also in question 1 c to e we did in the evaluation"
      ],
      "metadata": {
        "colab": {
          "base_uri": "https://localhost:8080/",
          "height": 517
        },
        "id": "G0Jj-bZgrIBA",
        "outputId": "24fa818e-1089-4d62-c9e4-030e72c4dc01"
      },
      "execution_count": null,
      "outputs": [
        {
          "output_type": "stream",
          "name": "stdout",
          "text": [
            " f'(x) : 1.0 - 12.0·x - 6.0·x² + 10.0·x³ + 5.0·x⁴ \n",
            "\n",
            "Exact value at 0.0 : 1.0\n",
            "Exact value at -1.18625 : -9.340808105218201e-06\n",
            "\n"
          ]
        },
        {
          "output_type": "display_data",
          "data": {
            "text/plain": [
              "<Figure size 640x480 with 1 Axes>"
            ],
            "image/png": "[encoded data removed]"
          },
          "metadata": {}
        }
      ]
    },
    {
      "cell_type": "markdown",
      "source": [
        "# **Question 01 [5 Marks]**\n",
        "a. Propose a best technique for numerical differentiation that provides higher accuracy than central difference method. You need to write a function for your proposed technique. [1 marks]\n",
        "\n",
        "Let, $$f(x) = x^5 + 2.5x^4 - 2x^3 -6x^2 + x + 2\\tag{1}$$\n",
        "\n",
        "b. Using your proposed method, what is the slope of $f(x)$  at $x=0,−1.18625$ and $step size = 0.1$? [4 marks]\n"
      ],
      "metadata": {
        "id": "GjT5bMuNvzuu"
      }
    },
    {
      "cell_type": "code",
      "source": [
        "#3rd MID question\n",
        "import numpy as np\n",
        "import pandas as pd\n",
        "import matplotlib.pyplot as plt\n",
        "from numpy.polynomial import Polynomial"
      ],
      "metadata": {
        "id": "JzXZqXIav7ae"
      },
      "execution_count": null,
      "outputs": []
    },
    {
      "cell_type": "code",
      "source": [
        "#a & b\n",
        "#higher accuracy = Richardson Interpolation\n",
        "def central_diff(f,h,x):\n",
        "  return ((f(x+h)-f(x-h))/(2*h))\n",
        "\n",
        "def richardson_interpolation(f,h,x):\n",
        "  dh_1=central_diff(f,h/2,x)\n",
        "  dh_2=central_diff(f,h,x)\n",
        "\n",
        "  return ((4*dh_1-dh_2)/3)\n",
        "\n",
        "coeffs = [2, 1, -6, -2, 2.5, 1]\n",
        "p = Polynomial(coeffs)\n",
        "x_val=np.array([0, -1.18625])\n",
        "h=0.1\n",
        "for x in x_val:\n",
        "  print(f\"Richardson interpolation at {x} ,{richardson_interpolation(p,h,x):.12f}\")"
      ],
      "metadata": {
        "colab": {
          "base_uri": "https://localhost:8080/"
        },
        "id": "-WcKrSgHv_HN",
        "outputId": "992345dd-8e36-4a9f-b1f3-d7424b5083ae"
      },
      "execution_count": null,
      "outputs": [
        {
          "output_type": "stream",
          "name": "stdout",
          "text": [
            "Richardson interpolation at 0.0 ,0.999975000000\n",
            "Richardson interpolation at -1.18625 ,-0.000034340808\n"
          ]
        }
      ]
    },
    {
      "cell_type": "markdown",
      "source": [
        "# **Question 02 [5 Marks]**\n",
        "\n",
        "\n",
        "The general form of $n$ degree Lagrange polynomial is given by\n",
        "\n",
        "$$p_n(x) = \\sum_{k=0}^n f(x_k)̧\\cdot l_k(x) = \\sum_{k=0}^n y_k\\cdot l_k(x)\\tag{2}$$\n",
        "\n",
        "where\n",
        "\n",
        "$$l_k(x) = \\prod_{j=0, j\\neq k}^n \\frac{x-x_j}{x_k-x_j}\\tag{3}$$\n",
        "\n",
        "Now, you need to find a polynomial using Lagrange interpolation method, which approximaets $\\sin(x)$ at points $x=-\\pi/3, 0, \\pi/2$\n",
        "\n",
        "**Tasks:**\n",
        "\n",
        "a) Using the `Polynomial` class from the NumPy library, construct the Lagrange basis polynomials $l_0(x), l_1(x)$ and $l_2(x)$ and print them. [3 marks]\n",
        "\n",
        "b) Use the previously constructed basis polynomials to find the interpolated polynomial $p_n(x)$, and print it. [1 mark]\n",
        "\n",
        "c) Evaluate the polynomial $p_n(x)$ at $x=\\pi/3$ and print the result. [1 mark]"
      ],
      "metadata": {
        "id": "_Ytbp-I9yLLN"
      }
    },
    {
      "cell_type": "code",
      "source": [
        "def l_k(data_x):\n",
        "  basis=[]\n",
        "\n",
        "  for k in range(len(data_x)):\n",
        "    f=Polynomial([1.00])\n",
        "    denominator=1.00\n",
        "    for i in range(len(data_x)):\n",
        "      if i!=k:\n",
        "        f*=Polynomial([-data_x[i],1])\n",
        "        denominator*=(data_x[k]-data_x[i])\n",
        "    f=f/denominator\n",
        "    basis.append(f)\n",
        "  return basis\n",
        "\n",
        "data_x=np.array([-np.pi/3, 0, np.pi/2])\n",
        "data_y=np.sin(data_x)\n",
        "result=l_k(data_x)  ## it is receiving polynomial object\n",
        "for i, poly in enumerate (result):  ## enumerate is used when you want to unpack polynomial object.\n",
        "  print(f\"l{i}(x) :\", poly)\n",
        "print()\n",
        "interpolated_polynomial=Polynomial([0.00])\n",
        "for i in range(len(data_x)):\n",
        "  interpolated_polynomial+=data_y[i]*result[i]\n",
        "\n",
        "print(\"Interpolated Polynomial : \",interpolated_polynomial)\n",
        "print()\n",
        "\n",
        "eval_val=interpolated_polynomial(np.pi/3)\n",
        "print(\"Interpolated value at pi/3 : \",eval_val)\n",
        "\n",
        "\n",
        "## Rest of the Questions are samee\n"
      ],
      "metadata": {
        "colab": {
          "base_uri": "https://localhost:8080/"
        },
        "id": "URenb8t7yNZM",
        "outputId": "92db1951-8f0f-464d-b584-1b675638a59c"
      },
      "execution_count": null,
      "outputs": [
        {
          "output_type": "stream",
          "name": "stdout",
          "text": [
            "l0(x) : 0.0 - 0.5729578·x + 0.36475626·x²\n",
            "l1(x) : 1.0 + 0.31830989·x - 0.6079271·x²\n",
            "l2(x) : 0.0 + 0.25464791·x + 0.24317084·x²\n",
            "\n",
            "Interpolated Polynomial :  0.0 + 0.75084391·x - 0.07271735·x²\n",
            "\n",
            "Interpolated value at pi/3 :  0.7065384140902211\n"
          ]
        }
      ]
    },
    {
      "cell_type": "markdown",
      "source": [
        "\n",
        "\n",
        "#Question 4:\n",
        "We have a function $f(x) =2x + 5 + 3x^{2}$.\n",
        "\n",
        "A. Represent this function as polynomial and print it. [Hint. you can use any builtin library] &nbsp;&nbsp;&nbsp;&nbsp;&nbsp;**(1 Marks)**\n",
        "\n",
        "B. Assume, $x = 5$ and $h = [1, 0.5, 0.25]$. Find out the value of first derivative of $f(x)$ function for each **h** value using the backward differentiation formula. &nbsp;&nbsp;&nbsp;&nbsp;&nbsp;**(1.5 Marks)**\n",
        "\n",
        "C. Calculate and display the differentiation error values that occur due to applying the backward difference formula for each value of h. &nbsp;&nbsp;&nbsp;&nbsp;&nbsp;**(1.5 Marks)**\n",
        "\n",
        "D. According to Richardson Extrapolation method,\n",
        "\n",
        "$$D_{h}^{(1)} = \\frac{4 D_{\\frac{h}{2} } - D_{h}}{3}$$<br>\n",
        "\n",
        "$$D_{h}^{(2)} = \\frac{16 D_{\\frac{h}{2}}^{(1)} - D_{h}^{(1)} }{15}$$\n",
        "\n",
        "&nbsp;&nbsp;&nbsp;&nbsp;&nbsp; i. Convert $ D_{h}^{(1)}$, $D_{h}^{(2)}$ into python functions. &nbsp;&nbsp;&nbsp;&nbsp;&nbsp; **(1 Marks)**\n",
        "\n",
        "&nbsp;&nbsp;&nbsp;&nbsp;&nbsp; ii. Compute the Second Degree Richarson Extrapolation, $D_{h}^{(2)}$ at x = 5, h = 0.5. &nbsp;&nbsp;&nbsp;&nbsp;&nbsp; **(1 Marks)**\n"
      ],
      "metadata": {
        "id": "pbV77v0V1VlF"
      }
    },
    {
      "cell_type": "code",
      "source": [
        "import numpy as np\n",
        "import pandas as pd\n",
        "import matplotlib.pyplot as plt\n",
        "from numpy.polynomial import Polynomial"
      ],
      "metadata": {
        "id": "e5oxAcFo1U7H"
      },
      "execution_count": 1,
      "outputs": []
    },
    {
      "cell_type": "code",
      "source": [
        "coeff=[5,2,3]\n",
        "poly=Polynomial(coeff)\n",
        "print(poly)\n",
        "print()\n",
        "hs=np.array([1,0.5,0.25])\n",
        "x_val=5\n",
        "def backward_diff(p,h,x):\n",
        "  return ((p(x)-p(x-h))/h)\n",
        "derivative_val=[]\n",
        "for h in hs:\n",
        "  result=backward_diff(poly,h,x_val)\n",
        "  derivative_val.append(float(result))\n",
        "\n",
        "print(derivative_val)\n",
        "poly_prime=poly.deriv(1)\n",
        "exact_val=poly_prime(x_val)\n",
        "print(\"Exact val : \" ,exact_val)\n",
        "error=[]\n",
        "for i in range(len(hs)):\n",
        "  error.append((float)(exact_val-derivative_val[i]))\n",
        "\n",
        "print(\"Error values : \" ,error)\n",
        "\n",
        "#d\n",
        "def central_diff(p,h,x):\n",
        "  return ((p(x+h)-p(x-h))/(2*h))\n",
        "\n",
        "def richardson_interpolation(p,h,x):\n",
        "  dh_1=central_diff(p,h/2,x)\n",
        "  dh_2=central_diff(p,h,x)\n",
        "\n",
        "  return ((4*dh_1-dh_2)/3)\n",
        "\n",
        "def richardson_interpolation_2(p,h,x):\n",
        "  dh_1=richardson_interpolation(p,h/2,x)\n",
        "  dh_2=richardson_interpolation(p,h,x)\n",
        "  return ((16*dh_1-dh_2)/15)\n",
        "\n",
        "h_1=0.5\n",
        "result=richardson_interpolation_2(poly,h_1,x_val)\n",
        "print(\"Second degree Richardson Extrapolation : \",result)"
      ],
      "metadata": {
        "colab": {
          "base_uri": "https://localhost:8080/"
        },
        "id": "KLSKGgLu11je",
        "outputId": "1f47b975-7664-4f5d-f4c2-83970df0c8fe"
      },
      "execution_count": 25,
      "outputs": [
        {
          "output_type": "stream",
          "name": "stdout",
          "text": [
            "5.0 + 2.0·x + 3.0·x²\n",
            "\n",
            "[29.0, 30.5, 31.25]\n",
            "Exact val :  32.0\n",
            "Error values :  [3.0, 1.5, 0.75]\n",
            "Second degree Richardson Extrapolation :  32.0\n"
          ]
        }
      ]
    },
    {
      "cell_type": "markdown",
      "source": [
        "# **Question 2:** [6 Marks]\n",
        "\n",
        "We already discussed the `calc_div_diff(x_data, y_data)` function in class to compute the full divided difference matrix from a set of known data points.\n",
        "\n",
        "We also know that **Newton’s Divided Difference matrix** can be efficiently **extended** when a new node is added, instead of recomputing everything from scratch. This task focuses on implementing the function `expand_div_diff(x_data, y_data, diffMatrix)` to **append one new node** to an existing divided difference matrix.\n",
        "\n",
        "---\n",
        "\n",
        "Task 1: `expand_div_diff(x_data, y_data, diffMatrix)` \\\n",
        "\n",
        "You are given:\n",
        "\n",
        "* `x_data`: a 1D list or array of the x-values (including the new node at the end),\n",
        "* `y_data`: a 1D list or array of the y-values (including the new y),\n",
        "* `diffMatrix`: a 2D numpy array containing the current divided difference table (upper-triangular),\n",
        "  **excluding the last row and column** for the new node.\n",
        "\n",
        "Your job is to:\n",
        "1. Increase the shape by one.\n",
        "2. Populate the secondary diagonal using,\n",
        "   $$\n",
        "   f[x_i, x_{i+1}, ..., x_{i+k}] = \\frac{f[x_{i+1}, ..., x_{i+k}] - f[x_i, ..., x_{i+k-1}]}{x_{i+k} - x_i}\n",
        "   $$\n",
        "---\n",
        "\n",
        "### Example:\n",
        "\n",
        "```python\n",
        "x_data = [1.0, 2.0, 4.0, 5.0]\n",
        "y_data = [1.0, 4.0, 16.0, 26.0]\n",
        "\n",
        "diffMatrix = np.array([\n",
        "    [1.0, 3.0,  1.0],\n",
        "    [4.0, 6.0,  0.0],\n",
        "    [16.0, 0.0, 0.0]\n",
        "])  # shape (3, 3)\n",
        "\n",
        "# Your function should add the 4th row & 4th column\n",
        "```\n",
        "\n",
        "**Expected Output** (after expanding):\n",
        "\n",
        "```python\n",
        "array([\n",
        "    [ 1.0,  3.0,  1.0, 0.08333333333 ],\n",
        "    [ 4.0,  6.0,  1.3333333333, 0.0 ],\n",
        "    [16.0,  10.0,  0.0, 0.0 ],\n",
        "    [26.0,  0.0, 0.0, 0.0 ]\n",
        "])\n",
        "```\n",
        "\n",
        "```Hint: The shape of the 2D array will increase by one```\n",
        "\n",
        "Task 2: Expand a matrix\n",
        "Now expand the following matrix.\n",
        "```python\n",
        "x_data = [0.5, 1.0, 2.0, 3.0]\n",
        "y_data = [0.75, 1.0, 4.0, 9.0]\n",
        "\n",
        "diffMatrix = np.array([\n",
        "    [0.75,\t0.5,\t1.6666666666666667],\n",
        "    [\t1,\t3,      0],\n",
        "    [   4,  0,      0]\n",
        "])\n",
        "```"
      ],
      "metadata": {
        "id": "p89L5Fdb8xT6"
      }
    },
    {
      "cell_type": "code",
      "source": [
        "#Another MID question\n",
        "import numpy as np\n",
        "import pandas as pd\n",
        "import matplotlib.pyplot as plt\n",
        "from numpy.polynomial import Polynomial"
      ],
      "metadata": {
        "id": "xDBBe75m89I6"
      },
      "execution_count": 26,
      "outputs": []
    },
    {
      "cell_type": "code",
      "source": [
        "def  expand_div_diff(x_data, y_data, diffMatrix):\n",
        "  n=len(x_data)-1\n",
        "  new_n=n+1\n",
        "  new_diff_matrix=np.zeros((new_n,new_n))\n",
        "  new_diff_matrix[:n,:n]=diffMatrix\n",
        "  new_diff_matrix[new_n-1,0]=y_data[-1]\n",
        "  for col in range(1,new_n):\n",
        "    for row in range(new_n-col):\n",
        "      new_diff_matrix[row,col]= (new_diff_matrix[row+1][col-1]-new_diff_matrix[row][col-1])/(x_data[row+col]-x_data[row])\n",
        "  return new_diff_matrix\n",
        "\n",
        "\n",
        "x_data = np.array([1.0, 2.0, 4.0, 5.0])\n",
        "y_data = np.array ([1.0, 4.0, 16.0, 26.0])\n",
        "diffMatrix = np.array([\n",
        "    [1.0, 3.0,  1.0],\n",
        "    [4.0, 6.0,  0.0],\n",
        "    [16.0, 0.0, 0.0]\n",
        "])\n",
        "\n",
        "new_diff=expand_div_diff(x_data,y_data,diffMatrix)\n",
        "print(\"\\n New Matrix :  \\n\", new_diff)"
      ],
      "metadata": {
        "colab": {
          "base_uri": "https://localhost:8080/"
        },
        "id": "3kx7yckW9EH5",
        "outputId": "bd0fdd81-81b8-474f-b78d-f5b447168367"
      },
      "execution_count": 30,
      "outputs": [
        {
          "output_type": "stream",
          "name": "stdout",
          "text": [
            "\n",
            " New Matrix :  \n",
            " [[ 1.          3.          1.          0.08333333]\n",
            " [ 4.          6.          1.33333333  0.        ]\n",
            " [16.         10.          0.          0.        ]\n",
            " [26.          0.          0.          0.        ]]\n"
          ]
        }
      ]
    },
    {
      "cell_type": "markdown",
      "source": [
        "# **Question: 02**\n",
        "Your phone has been losing charge far faster this week than last. You open its hidden system log and find only these four lines that mention screen-on time and the resulting battery drop:\n",
        "\n",
        "```\n",
        "1.0 hour screen-on time → 17 % lost  \n",
        "3.5 hour screen-on time → 50 % lost  \n",
        "4.0 hour screen-on time → 85 % lost\n",
        "```\n",
        "Later, a single extra line is appended:\n",
        "```\n",
        "5.0 hour screen-on time → 90 % lost\n",
        "```\n",
        "The log viewer refuses to draw a graph and the official battery-health tool is locked behind a server that is currently down.\n",
        "\n",
        "All you have is the raw numbers and a sticky note on your desk that says:\n",
        "<br></br>\n",
        "<b><i>“Three (or more) exact readings → one unique predictive curve.”</i></b>\n",
        "<br></br>\n",
        "You want to know how much battery you would lose if you binge-scroll for **2.2** hours straight tonight.\n",
        "\n",
        "### **a)** [3 Marks] Print the newton's basis for the polynomial constructed with the first three data points.\n",
        "### **b)** [3 Marks] Now, write a function that adds new data to the previous data.\n",
        "**[You are not allowed to hard code]**"
      ],
      "metadata": {
        "id": "hHP1gwmOAt9Y"
      }
    },
    {
      "cell_type": "code",
      "source": [
        "#a & b\n",
        "def calc_div_diff_matrix(x, y):\n",
        "  n=len(x)\n",
        "  coeff=np.zeros((n,n))\n",
        "  coeff[:,0]=y\n",
        "  for col in range(1,n):\n",
        "    for row in range(n-col):\n",
        "      coeff[row,col]= (coeff[row+1][col-1]-coeff[row][col-1])/(x[row+col]-x[row])\n",
        "  return coeff\n",
        "\n",
        "x =np.array( [1.0, 3.5, 4.0])\n",
        "y = np.array([17.0, 50.0, 85.0])\n",
        "Matrix=calc_div_diff_matrix(x,y)\n",
        "print(Matrix)\n",
        "\n",
        "def add_new_data(x,y,new_x,new_y):\n",
        "  x=np.append(x,new_x)\n",
        "  y=np.append(y,new_y)\n",
        "  return x,y\n",
        "\n",
        "x_new,y_new=add_new_data(x,y,5.0,90.0)\n",
        "print(\"New data points : \" , x_new)\n",
        "print(\"New data points : \" , y_new)\n",
        "new_matrix=calc_div_diff_matrix(x_new,y_new)\n",
        "print(\"New Matrix : \\n\" , new_matrix)\n"
      ],
      "metadata": {
        "colab": {
          "base_uri": "https://localhost:8080/"
        },
        "id": "M0_6F-zeAygH",
        "outputId": "6d462686-8f5f-483e-e5e0-cccd9a93c150"
      },
      "execution_count": 37,
      "outputs": [
        {
          "output_type": "stream",
          "name": "stdout",
          "text": [
            "[[17.         13.2        18.93333333]\n",
            " [50.         70.          0.        ]\n",
            " [85.          0.          0.        ]]\n",
            "New data points :  [1.  3.5 4.  5. ]\n",
            "New data points :  [17. 50. 85. 90.]\n",
            "New Matrix : \n",
            " [[ 17.          13.2         18.93333333 -15.56666667]\n",
            " [ 50.          70.         -43.33333333   0.        ]\n",
            " [ 85.           5.           0.           0.        ]\n",
            " [ 90.           0.           0.           0.        ]]\n"
          ]
        }
      ]
    },
    {
      "cell_type": "markdown",
      "source": [
        "## Question 3 **[4 + 2 marks]**\n",
        "\n",
        "\n",
        "In Vandermonde matrix, the equation can be written as  $$\\mathbf{Xa = y},$$\n",
        "where in class we constructed, $\\mathbf{X} = $\n",
        "\n",
        "\\begin{bmatrix}\n",
        "x_0^0 & x_0^1 & \\cdots & x_0^{n-1}  & x_0^n\\\\\n",
        "x_1^0 & x_1^1 & \\cdots & x_1^{n-1} & x_1^n\\\\\n",
        "\\vdots & \\vdots & \\ddots & \\vdots & \\vdots\\\\\n",
        "x_{n-1}^0 & x_{n-1}^1 & \\cdots & x_{n-1}^{n-1}  & x_{n-1}^n\\\\\n",
        "x_n^0 & x_{n}^1 & \\cdots & x_n^{n-1} & x_n^n\\\\\n",
        "\\end{bmatrix}\n",
        "\n",
        "\n",
        "**Now you have to implement the following matrix**\n",
        "\n",
        "$\\mathbf{X_{new}} = $\n",
        "\\begin{bmatrix}\n",
        "x_n^n & x_{n}^{n-1} & \\cdots & x_n^{1} & x_n^0\\\\\n",
        "x_{n-1}^n & x_{n-1}^{n-1} & \\cdots & x_{n-1}^{1} & x_{n-1}^{0}\\\\\n",
        "\\vdots & \\vdots & \\ddots & \\vdots & \\vdots\\\\\n",
        "x_1^n & x_1^{n-1} & \\cdots & x_1^{1} & x_1^{0}\\\\\n",
        "x_0^n & x_0^{n-1} & \\cdots & x_0^{1} & x_0^{0}\\\\\n",
        "\\end{bmatrix}\n",
        "\n",
        "Write a **function** that takes **data_x** as parameter and populates the **$X_{new}$** matrix. Use **(52,-90), (-30,-140), (-100,-3), (0,1), (38,10), (79,42)** data points. Print the matrix, **$X_{new}$** from the given data.\n",
        "\n",
        "\n",
        "Next, take the **diagonal** elements of your Vandermonde matrix to be the coefficients of an n-degree Polynomial. Consider element with index [0,0] to be the **last coefficient** and with index [n,n] to be the **first coefficient**. Print the Polynomial.\n",
        "\n",
        "Hint: Use the Polynomial class of Numpy"
      ],
      "metadata": {
        "id": "Cj35I4VCDB9n"
      }
    },
    {
      "cell_type": "code",
      "source": [
        "#Another MID question\n",
        "def get_poly(data_x,data_y):\n",
        "  n=len(data_x)\n",
        "  X=np.zeros((n,n))\n",
        "  for i in range(n):\n",
        "    for j in range(n):\n",
        "      X[n-i-1,n-j-1]=data_x[i]**j   ## for reversing every row and column\n",
        "  return (X)\n",
        "\n",
        "\n",
        "data_x= np.array([52, -30, -100, 0, 38, 79])\n",
        "data_y= np.array([-90, -140, -3, 1, 10, 42])\n",
        "result=get_poly(data_x,data_y)\n",
        "print(\"New Matrix : \",result)\n",
        "\n",
        "coeffs=[]\n",
        "for i in range(len(data_x)):\n",
        "  for j in range(len(data_x)):\n",
        "    if i==j:\n",
        "      coeffs.append(result[i][j])\n",
        "coeffs.reverse()\n",
        "poly=Polynomial(coeffs)\n",
        "print(\"Coefficients : \",poly)\n"
      ],
      "metadata": {
        "colab": {
          "base_uri": "https://localhost:8080/"
        },
        "id": "Nbzw-_FHDLxw",
        "outputId": "8b3e8111-adc0-447d-a00b-100edae0d8ee"
      },
      "execution_count": 50,
      "outputs": [
        {
          "output_type": "stream",
          "name": "stdout",
          "text": [
            "New Matrix :  [[ 3.07705640e+09  3.89500810e+07  4.93039000e+05  6.24100000e+03\n",
            "   7.90000000e+01  1.00000000e+00]\n",
            " [ 7.92351680e+07  2.08513600e+06  5.48720000e+04  1.44400000e+03\n",
            "   3.80000000e+01  1.00000000e+00]\n",
            " [ 0.00000000e+00  0.00000000e+00  0.00000000e+00  0.00000000e+00\n",
            "   0.00000000e+00  1.00000000e+00]\n",
            " [-1.00000000e+10  1.00000000e+08 -1.00000000e+06  1.00000000e+04\n",
            "  -1.00000000e+02  1.00000000e+00]\n",
            " [-2.43000000e+07  8.10000000e+05 -2.70000000e+04  9.00000000e+02\n",
            "  -3.00000000e+01  1.00000000e+00]\n",
            " [ 3.80204032e+08  7.31161600e+06  1.40608000e+05  2.70400000e+03\n",
            "   5.20000000e+01  1.00000000e+00]]\n",
            "Coefficients :  1.0 - 30.0·x + 10000.0·x² + 0.0·x³ + 2085136.0·x⁴ + (3.0770564e+09)·x⁵\n"
          ]
        }
      ]
    },
    {
      "cell_type": "code",
      "source": [
        "#DONE AND DUSTED !!! BEST OF LUCK"
      ],
      "metadata": {
        "id": "Cp8kBKGsJDjJ"
      },
      "execution_count": null,
      "outputs": []
    }
  ]
}