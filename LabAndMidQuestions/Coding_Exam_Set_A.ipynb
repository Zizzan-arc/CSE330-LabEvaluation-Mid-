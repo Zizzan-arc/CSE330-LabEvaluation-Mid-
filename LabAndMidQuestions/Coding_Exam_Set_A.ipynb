{
  "nbformat": 4,
  "nbformat_minor": 0,
  "metadata": {
    "colab": {
      "provenance": []
    },
    "kernelspec": {
      "name": "python3",
      "display_name": "Python 3"
    },
    "language_info": {
      "name": "python"
    }
  },
  "cells": [
    {
      "cell_type": "markdown",
      "source": [
        "# **Question: 01** (2 Marks)\n",
        "\n",
        "Let, $$f(x) = x^5 + 2.5x^4 - 2x^3 -6x^2 + x + 2\\tag{2.1}$$\n",
        "\n",
        "a. Find f(2)\n",
        "\n",
        "b. Find f'(2)\n",
        "\n",
        "Do not hardcode. Use Polynomial class."
      ],
      "metadata": {
        "id": "bue37wmjnJgG"
      }
    },
    {
      "cell_type": "code",
      "source": [
        "import numpy as np\n",
        "import pandas as pd\n",
        "import matplotlib.pyplot as plt\n",
        "from numpy.polynomial import Polynomial"
      ],
      "metadata": {
        "id": "ZymrdX_NnMgL"
      },
      "execution_count": null,
      "outputs": []
    },
    {
      "cell_type": "code",
      "source": [
        "import numpy as np\n",
        "from numpy.polynomial import Polynomial\n",
        "\n",
        "# Define the polynomial f(x) = x^5 + 2.5x^4 - 2x^3 - 6x^2 + x + 2\n",
        "coeffs = [2, 1, -6, -2, 2.5, 1]  # constant term first\n",
        "f = Polynomial(coeffs)\n",
        "\n",
        "# (a) Evaluate f(2)\n",
        "f_at_2 = f(2)\n",
        "\n",
        "# (b) Evaluate f'(2)\n",
        "f_prime = f.deriv()\n",
        "f_prime_at_2 = f_prime(2)\n",
        "\n",
        "f_at_2, f_prime_at_2\n"
      ],
      "metadata": {
        "id": "CC37RdACnOeE",
        "colab": {
          "base_uri": "https://localhost:8080/"
        },
        "outputId": "d7e10efb-f1f2-4bbc-8af1-382c5e767184"
      },
      "execution_count": null,
      "outputs": [
        {
          "output_type": "execute_result",
          "data": {
            "text/plain": [
              "(np.float64(36.0), np.float64(113.0))"
            ]
          },
          "metadata": {},
          "execution_count": 3
        }
      ]
    },
    {
      "cell_type": "markdown",
      "source": [
        "# **Question: 2**\n",
        "\n",
        "You are given data points for a function, and you are required to apply Newton’s Divided Difference Interpolation to:\n",
        "\n",
        "\n",
        "*   construct the interpolation polynomial\n",
        "*   evaluate the interpolated value at a given point\n",
        "\n",
        "\n",
        "Data Points:\n",
        "\n",
        "x = [-1, 0, 1, 2]\n",
        "\n",
        "y = [0.5, 3, 1.5, 8]\n",
        "\n",
        "**Task (i) (3 Marks):**\n",
        "\n",
        "Write a Python function divided_diff_table(x, y, n) that builds the divided difference table and returns the coefficients of the Newton polynomial.\n",
        "\n",
        "**Task (ii) (3 Marks):**\n",
        "\n",
        "Use the function from Task (i) to compute the interpolated value of the polynomial at x = 7. Also, display the coefficients of the Newton polynomial."
      ],
      "metadata": {
        "id": "mg-K3M22KTdQ"
      }
    },
    {
      "cell_type": "code",
      "source": [
        "class Newtons_Divided_Differences:\n",
        "\n",
        "    def __init__(self, difference, data_x):\n",
        "        self.difference = difference\n",
        "        self.data_x = data_x\n",
        "\n",
        "    def n(self, k, x):\n",
        "\n",
        "      var = 1\n",
        "\n",
        "      for i in range(k):\n",
        "        var *= x - self.data_x[i]\n",
        "      return var\n",
        "\n",
        "    def __call__(self, x):\n",
        "      res = np.zeros(len(x))\n",
        "\n",
        "\n",
        "      for j, x in enumerate(x):\n",
        "        for i in range (0,len(self.difference )):\n",
        "          res[j] += self.difference[i]*self.n(i,x)\n",
        "\n",
        "\n",
        "      return res\n",
        "\n",
        "\n",
        "\n",
        "def calc_div_diff(x,y):\n",
        "    assert(len(x)==len(y))\n",
        "\n",
        "    n = len(x)\n",
        "    coef = np.zeros((n,n))\n",
        "    for j in range(n):\n",
        "      coef[j,0] = y[j]\n",
        "\n",
        "    for j in range(1,n):\n",
        "      for i in range (0, n-j):\n",
        "        coef[i,j] = (coef[i+1,j-1] - coef[i,j-1])/(x[i+j]-x[i])\n",
        "\n",
        "\n",
        "    return coef[0]\n",
        "\n",
        "\n",
        "x = [-1, 0, 1, 2]\n",
        "y = [0.5, 3, 1.5, 8]\n",
        "\n",
        "differences = calc_div_diff(x,y)\n",
        "p = Newtons_Divided_Differences(differences, x)\n",
        "coeff = p(x)\n",
        "for i in range(len(x)):\n",
        "  print(x[i]  , y[i]  , coeff[i])"
      ],
      "metadata": {
        "id": "1-WO5jlTLgoG",
        "colab": {
          "base_uri": "https://localhost:8080/"
        },
        "outputId": "d8dea2cc-a7f8-46a3-e05d-cc57e5b0373d"
      },
      "execution_count": null,
      "outputs": [
        {
          "output_type": "stream",
          "name": "stdout",
          "text": [
            "-1 0.5 0.5\n",
            "0 3 3.0\n",
            "1 1.5 1.5\n",
            "2 8 8.0\n"
          ]
        }
      ]
    },
    {
      "cell_type": "markdown",
      "source": [
        "# **Question 3:**\n",
        "\n",
        "You are given the following data points:\n",
        "\n",
        "x = [0, 1, 2]\n",
        "\n",
        "y = [1, 3, 2]\n",
        "\n",
        "You are required to use the Vandermonde matrix method for polynomial interpolation.\n",
        "\n",
        "**Task (i) (3 Marks):**\n",
        "\n",
        "Construct the Vandermonde matrix for the given data points and compute the coefficients of the interpolating polynomial.\n",
        "\n",
        "**Task (ii) (3 Marks):**\n",
        "\n",
        "Using the polynomial coefficients from Task (i):\n",
        "\n",
        "\n",
        "1.   Evaluate the interpolated value at x = 1.5.\n",
        "2.   Plot the original data points and the interpolated polynomial over the interval x = 0 to x = 2.\n"
      ],
      "metadata": {
        "id": "seZdBm4k0XJ-"
      }
    },
    {
      "cell_type": "code",
      "source": [
        "def get_poly(data_x, data_y):\n",
        "    n_nodes = len(data_x)\n",
        "\n",
        "    X = np.zeros((n_nodes, n_nodes))\n",
        "    for i in range(n_nodes):\n",
        "      for j in range(n_nodes):\n",
        "        X[i][j] = data_x[i]**j\n",
        "\n",
        "\n",
        "\n",
        "\n",
        "    X_inv = np.linalg.pinv(X)\n",
        "    a = np.dot(X_inv, data_y)\n",
        "    p = Polynomial(a)\n",
        "\n",
        "    return p\n",
        "\n",
        "\n",
        "x = [0, 1, 2]\n",
        "y = [1, 3, 2]\n",
        "p = get_poly(x,y)\n",
        "print(f\" Interpolated value: {p(1.5)}\")\n",
        "\n",
        "\n",
        "\n"
      ],
      "metadata": {
        "id": "CcDNcAIm0YGB",
        "colab": {
          "base_uri": "https://localhost:8080/"
        },
        "outputId": "325c62c7-1722-4547-828b-0c66e507a674"
      },
      "execution_count": null,
      "outputs": [
        {
          "output_type": "stream",
          "name": "stdout",
          "text": [
            " Interpolated value: 2.874999999999998\n"
          ]
        }
      ]
    },
    {
      "cell_type": "code",
      "source": [
        "import matplotlib.pyplot as plt\n",
        "import numpy as np\n",
        "\n",
        "x_data = np.linspace(0, 2, 40)\n",
        "plt.plot(x_data, p(x_data))\n",
        "plt.plot(x, y, 'ro')\n",
        "plt.show()\n"
      ],
      "metadata": {
        "colab": {
          "base_uri": "https://localhost:8080/",
          "height": 430
        },
        "id": "I09SNjmn1JrF",
        "outputId": "fbbf0fd7-9ecc-4f9f-d75d-63094c4fd722"
      },
      "execution_count": null,
      "outputs": [
        {
          "output_type": "display_data",
          "data": {
            "text/plain": [
              "<Figure size 640x480 with 1 Axes>"
            ],
            "image/png": "[encoded data removed]"
          },
          "metadata": {}
        }
      ]
    },
    {
      "cell_type": "markdown",
      "source": [
        "## Question 04 **[3 + 3 = 6 Marks]**\n",
        "\n",
        "\n",
        "Suppose there is a function, $$ f(x) = x^4 + 3x^3 +2x^2 - 2x + 15$$\n",
        "\n",
        "To analyze the behavior of the Absolute Error when approximating the derivative of the function at **$ x = 5 $** using **Central Difference**, you have to **determine the minimum value of h** that ensures the absolute error stays below a given **tolerance threshold of 0.002463**. Additionally, **calculate how many reductions of $ℎ$** are required to meet this condition.\n",
        "\n",
        "As you already know,\n",
        "1. Central Difference, $f^\\prime(x) = \\frac{f(x+h)-f(x-h)}{2*h}$\n",
        "2. Absolute error = |Actual derivative - Approximate derivative|\n",
        "\n",
        "You should start with an **initial step size of $ℎ = 0.5$** and iteratively **reduce $ℎ$ by one-third**, if necessary, until the error condition is satisfied.\n",
        "\n",
        "**Hint:** You have to use **Polynomial class** from the **numpy** library to define the function, $f(x)$ and Your output should clearly state the **minimum $ℎ$** and the **total number of reductions** required to achieve the desired accuracy.\n"
      ],
      "metadata": {
        "id": "klpY3ZQeLTF_"
      }
    },
    {
      "cell_type": "code",
      "source": [
        "#Write your code from here\n",
        "# Write code here\n",
        "from numpy.polynomial import Polynomial\n",
        "\n",
        "# Define the function f(x) = x^4 + 3x^3 + 2x^2 - 2x + 15\n",
        "p = Polynomial([15, -2, 2, 3, 1])  # coefficients low -> high\n",
        "\n",
        "p_prime = p.deriv()  # exact derivative\n",
        "\n",
        "# Central difference approximation\n",
        "def central_diff(poly_func, h, x):\n",
        "    return (poly_func(x + h) - poly_func(x - h)) / (2*h)\n",
        "\n",
        "x0 = 5.0\n",
        "tol = 0.002463\n",
        "h = 0.5\n",
        "reductions = 0\n",
        "max_iter = 200\n",
        "\n",
        "while reductions < max_iter:\n",
        "    approx = central_diff(p, h, x0)\n",
        "    exact = p_prime(x0)\n",
        "    err = abs(exact - approx)\n",
        "    if err < tol:\n",
        "        break\n",
        "    h /= 3  # reduce h\n",
        "    reductions += 1\n",
        "\n",
        "print(f\"Minimum h to achieve |error| < {tol} : {h:.12e}\")\n",
        "print(f\"Exact derivative at x={x0} = {exact:.12f}\")\n",
        "print(f\"Central difference approx = {approx:.12f}\")\n",
        "print(f\"Absolute error = {err:.12e}\")\n",
        "print(f\"Total number of reductions required = {reductions}\")\n"
      ],
      "metadata": {
        "id": "N6drqqghLT_m",
        "colab": {
          "base_uri": "https://localhost:8080/"
        },
        "outputId": "240ba8e5-8a9b-4cd7-ae29-0c75d177b3f6"
      },
      "execution_count": null,
      "outputs": [
        {
          "output_type": "stream",
          "name": "stdout",
          "text": [
            "Minimum h to achieve |error| < 0.002463 : 6.172839506173e-03\n",
            "Exact derivative at x=5.0 = 743.000000000000\n",
            "Central difference approx = 743.000876390760\n",
            "Absolute error = 8.763907599132e-04\n",
            "Total number of reductions required = 4\n"
          ]
        }
      ]
    }
  ]
}