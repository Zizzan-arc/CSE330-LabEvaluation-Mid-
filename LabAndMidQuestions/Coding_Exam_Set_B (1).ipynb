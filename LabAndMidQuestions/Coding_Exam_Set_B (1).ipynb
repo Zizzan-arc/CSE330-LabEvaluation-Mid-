{
  "nbformat": 4,
  "nbformat_minor": 0,
  "metadata": {
    "colab": {
      "provenance": []
    },
    "kernelspec": {
      "name": "python3",
      "display_name": "Python 3"
    },
    "language_info": {
      "name": "python"
    }
  },
  "cells": [
    {
      "cell_type": "markdown",
      "source": [
        "# **Question: 1**\n",
        "\n",
        "\n",
        "Let $f(x)$ be a function of $x$.\n",
        "\n",
        "$$f(x) = x^5 - 2.5x^4 - 2x^3 -6x^2 + x + 2\\tag{1.1}$$\n",
        "\n",
        "a. [1.5 Marks] Plot the function for $$-2.5 \\le x \\le 1.5$$\n",
        "\n",
        "b. [2 Marks] What is the actual slope of $f(x)$ at $x = 0 , -1.18625$ ?  Print $f'(x)$ and plot $f'(x)$ at $ -2 \\le x \\le 1.2$.\n",
        "\n",
        "For c to e, assume step size is $0.2$.\n",
        "\n",
        "c. [1.5 Marks] Use forward differntiation to figure out the slope at $x = 0 , -1.18625$.\n",
        "\n",
        "d. [1.5 Marks] Use backward differntiation to figure out the slope at $x = 0 , -1.18625$.\n",
        "\n",
        "e. [1.5 Marks] Use central differntiation to figure out the slope at $x = 0 , -1.18625$."
      ],
      "metadata": {
        "id": "VK82U2bl-mus"
      }
    },
    {
      "cell_type": "code",
      "execution_count": null,
      "metadata": {
        "id": "GeB-KtyduPNr"
      },
      "outputs": [],
      "source": [
        "import numpy as np\n",
        "import pandas as pd\n",
        "import matplotlib.pyplot as plt\n",
        "from numpy.polynomial import Polynomial"
      ]
    },
    {
      "cell_type": "code",
      "source": [
        "#1a\n",
        "f = Polynomial([2, 1, -6, -2, -2.5, 1])\n",
        "\n",
        "f_prime = f.deriv(1)\n",
        "print(f\"f'(x): {f_prime}\")\n",
        "print(f\"Slope at x=0: {f_prime(0)}\")\n",
        "\n",
        "#1b\n",
        "x_arr = np.linspace(-2, 1.2, 100)\n",
        "y_arr = f_prime(x_arr)\n",
        "\n",
        "plt.plot(x_arr, y_arr)\n",
        "plt.show()"
      ],
      "metadata": {
        "colab": {
          "base_uri": "https://localhost:8080/",
          "height": 465
        },
        "id": "IoLvFK0bTpNM",
        "outputId": "0c9e9696-e8b1-4974-8927-4b1988f4e237"
      },
      "execution_count": null,
      "outputs": [
        {
          "output_type": "stream",
          "name": "stdout",
          "text": [
            "f'(x): 1.0 - 12.0·x - 6.0·x² - 10.0·x³ + 5.0·x⁴\n",
            "Slope at x=0: 1.0\n"
          ]
        },
        {
          "output_type": "display_data",
          "data": {
            "text/plain": [
              "<Figure size 640x480 with 1 Axes>"
            ],
            "image/png": "[encoded data removed]"
          },
          "metadata": {}
        }
      ]
    },
    {
      "cell_type": "code",
      "source": [
        "def forward_diff(f, h, x):\n",
        "  return (f(x+h)-f(x))/h\n",
        "\n",
        "def backward_diff(f, h, x):\n",
        "  return (f(x)-f(x-h))/h\n",
        "\n",
        "def central_diff(f, h, x):\n",
        "  return (f(x+h)-f(x-h))/(2*h)\n",
        "\n",
        "x = 0, -1.18625\n",
        "print(f\"Using forward differentiation:\")\n",
        "print(f\"Slope at x = 0: {forward_diff(f, 0.2, 0)}\")\n",
        "print(f\"Slope at x = -1.18625: {forward_diff(f, 0.2, -1.18625)}\")\n",
        "print()\n",
        "print(f\"Using backward differentiation:\")\n",
        "print(f\"Slope at x = 0: {backward_diff(f, 0.2, 0)}\")\n",
        "print(f\"Slope at x = -1.18625: {backward_diff(f, 0.2, -1.18625)}\")\n",
        "print()\n",
        "print(f\"Using central differentiation:\")\n",
        "print(f\"Slope at x = 0: {central_diff(f, 0.2, 0)}\")\n",
        "print(f\"Slope at x = -1.18625: {central_diff(f, 0.2, -1.18625)}\")\n"
      ],
      "metadata": {
        "colab": {
          "base_uri": "https://localhost:8080/"
        },
        "id": "j1BdKyTPUrLq",
        "outputId": "22339a63-8eb8-4e65-add9-7617dcd72901"
      },
      "execution_count": null,
      "outputs": [
        {
          "output_type": "stream",
          "name": "stdout",
          "text": [
            "Using forward differentiation:\n",
            "Slope at x = 0: -0.2983999999999998\n",
            "Slope at x = -1.18625: 26.940453553723128\n",
            "\n",
            "Using backward differentiation:\n",
            "Slope at x = 0: 2.1416\n",
            "Slope at x = -1.18625: 41.748600030285616\n",
            "\n",
            "Using central differentiation:\n",
            "Slope at x = 0: 0.9216000000000002\n",
            "Slope at x = -1.18625: 34.34452679200437\n"
          ]
        }
      ]
    },
    {
      "cell_type": "markdown",
      "source": [
        "# **Question: 02**\n",
        "Your phone has been losing charge far faster this week than last. You open its hidden system log and find only these four lines that mention screen-on time and the resulting battery drop:\n",
        "\n",
        "```\n",
        "1.0 hour screen-on time → 17 % lost  \n",
        "3.5 hour screen-on time → 50 % lost  \n",
        "4.0 hour screen-on time → 85 % lost\n",
        "```\n",
        "Later, a single extra line is appended:\n",
        "```\n",
        "5.0 hour screen-on time → 90 % lost\n",
        "```\n",
        "The log viewer refuses to draw a graph and the official battery-health tool is locked behind a server that is currently down.\n",
        "\n",
        "All you have is the raw numbers and a sticky note on your desk that says:\n",
        "<br></br>\n",
        "<b><i>“Three (or more) exact readings → one unique predictive curve.”</i></b>\n",
        "<br></br>\n",
        "You want to know how much battery you would lose if you binge-scroll for **2.2** hours straight tonight.\n",
        "\n",
        "### **a)** [3 Marks] Print the newton's basis for the polynomial constructed with the first three data points.\n",
        "### **b)** [3 Marks] Now, write a function that adds new data to the previous data.\n",
        "**[You are not allowed to hard code]**"
      ],
      "metadata": {
        "id": "IsPKNcgmAxC7"
      }
    },
    {
      "cell_type": "code",
      "source": [
        "def calc_div_diff_matrix(x, y):\n",
        "  difference = lambda y2, y1, x2, x1: (y2-y1)/(x2-x1)\n",
        "  n = len(x)\n",
        "  coeff = np.zeros((n,n))\n",
        "  coeff[:,0] = y\n",
        "  for i in range(1,n):\n",
        "    for j in range(n-i):\n",
        "      x1 = x[j]\n",
        "      x2 = x[j+i]\n",
        "      y1 = coeff[j, i-1]\n",
        "      y2 = coeff[j+1, i-1]\n",
        "      coeff[j,i] = difference(y2, y1, x2, x1)\n",
        "  print(f\"Newton's Basis: {coeff[0]}\")\n",
        "  return coeff\n",
        "\n",
        "x = [1.0, 3.5, 4.0]\n",
        "y = [17.0, 50.0, 85.0]\n",
        "\n",
        "Matrix = calc_div_diff_matrix(x,y)\n",
        "print(Matrix)\n"
      ],
      "metadata": {
        "id": "AHe65t-uA-Gp",
        "colab": {
          "base_uri": "https://localhost:8080/"
        },
        "outputId": "47f776c2-cc57-42f0-dbb4-4d3c007f5022"
      },
      "execution_count": null,
      "outputs": [
        {
          "output_type": "stream",
          "name": "stdout",
          "text": [
            "Newton's Basis: [17.         13.2        18.93333333]\n",
            "[[17.         13.2        18.93333333]\n",
            " [50.         70.          0.        ]\n",
            " [85.          0.          0.        ]]\n"
          ]
        }
      ]
    },
    {
      "cell_type": "code",
      "source": [
        "def add_new_node(Matrix, new_x, new_y, x_existing):\n",
        "  difference = lambda y2, y1, x2, x1: (y2-y1)/(x2-x1)\n",
        "  n = len(x_existing)+1\n",
        "  newMatrix = np.zeros((n,n))\n",
        "  for i in range(n-1):\n",
        "    newMatrix[:n-1,i] = Matrix[:,i]\n",
        "\n",
        "  newMatrix[-1,0] = new_y\n",
        "\n",
        "  for i in range(1,n):\n",
        "    for j in range(n-i):\n",
        "      if i == j:\n",
        "        x1 = x[j]\n",
        "        x2 = x[j+i]\n",
        "        y1 = newMatrix[j, i-1]\n",
        "        y2 = newMatrix[j+1, i-1]\n",
        "        newMatrix[j,i] = difference(y2, y1, x2, x1)\n",
        "  return newMatrix\n",
        "\n",
        "new_x = 5.0\n",
        "new_y = 99\n",
        "Matrix_extended = add_new_node(Matrix, new_x, new_y, x)\n",
        "print(Matrix_extended)"
      ],
      "metadata": {
        "id": "tXvScVCQBCQF",
        "colab": {
          "base_uri": "https://localhost:8080/"
        },
        "outputId": "b2cffc45-8fc8-43b5-888b-706475d8b150"
      },
      "execution_count": null,
      "outputs": [
        {
          "output_type": "stream",
          "name": "stdout",
          "text": [
            "[[17.         13.2        18.93333333  0.        ]\n",
            " [50.         70.          0.          0.        ]\n",
            " [85.          0.          0.          0.        ]\n",
            " [99.          0.          0.          0.        ]]\n"
          ]
        }
      ]
    },
    {
      "cell_type": "markdown",
      "source": [
        "## Question 3 **[4 + 2 marks]**\n",
        "\n",
        "\n",
        "In Vandermonde matrix, the equation can be written as  $$\\mathbf{Xa = y},$$\n",
        "where in class we constructed, $\\mathbf{X} = $\n",
        "\n",
        "\\begin{bmatrix}\n",
        "x_0^0 & x_0^1 & \\cdots & x_0^{n-1}  & x_0^n\\\\\n",
        "x_1^0 & x_1^1 & \\cdots & x_1^{n-1} & x_1^n\\\\\n",
        "\\vdots & \\vdots & \\ddots & \\vdots & \\vdots\\\\\n",
        "x_{n-1}^0 & x_{n-1}^1 & \\cdots & x_{n-1}^{n-1}  & x_{n-1}^n\\\\\n",
        "x_n^0 & x_{n}^1 & \\cdots & x_n^{n-1} & x_n^n\\\\\n",
        "\\end{bmatrix}\n",
        "\n",
        "\n",
        "**Now you have to implement the following matrix**\n",
        "\n",
        "$\\mathbf{X_{new}} = $\n",
        "\\begin{bmatrix}\n",
        "x_n^n & x_{n}^{n-1} & \\cdots & x_n^{1} & x_n^0\\\\\n",
        "x_{n-1}^n & x_{n-1}^{n-1} & \\cdots & x_{n-1}^{1} & x_{n-1}^{0}\\\\\n",
        "\\vdots & \\vdots & \\ddots & \\vdots & \\vdots\\\\\n",
        "x_1^n & x_1^{n-1} & \\cdots & x_1^{1} & x_1^{0}\\\\\n",
        "x_0^n & x_0^{n-1} & \\cdots & x_0^{1} & x_0^{0}\\\\\n",
        "\\end{bmatrix}\n",
        "\n",
        "Write a **function** that takes **data_x** as parameter and populates the **$X_{new}$** matrix. Use **(52,-90), (-30,-140), (-100,-3), (0,1), (38,10), (79,42)** data points. Print the matrix, **$X_{new}$** from the given data.\n",
        "\n",
        "\n",
        "Next, take the **diagonal** elements of your Vandermonde matrix to be the coefficients of an n-degree Polynomial. Consider element with index [0,0] to be the **last coefficient** and with index [n,n] to be the **first coefficient**. Print the Polynomial.\n",
        "\n",
        "Hint: Use the Polynomial class of Numpy"
      ],
      "metadata": {
        "id": "nvm0DSnlBXBm"
      }
    },
    {
      "cell_type": "code",
      "source": [
        "def createMatrix(data_x, data_y):\n",
        "  n = len(data_x)\n",
        "  X = np.zeros((n,n))\n",
        "  for i in range(n):\n",
        "    for j in range(n):\n",
        "      X[n-i-1,n-j-1] = data_x[i]**j\n",
        "  print(X)\n",
        "\n",
        "  coeff = []\n",
        "  for i in range(n):\n",
        "    for j in range(n):\n",
        "      if i == j:\n",
        "        coeff.append(X[i,j])\n",
        "  coeff.reverse()\n",
        "\n",
        "  p = Polynomial(coeff)\n",
        "  print(p)\n",
        "data_x = [52, -30, -100, 0, 38, 79]\n",
        "data_y = [-90, -140, -3, 1, 10, 42]\n",
        "\n",
        "createMatrix(data_x, data_y)"
      ],
      "metadata": {
        "id": "HR0lerrRBYY9",
        "colab": {
          "base_uri": "https://localhost:8080/"
        },
        "outputId": "dbc8fb23-390d-4e78-de6f-472e63eaaea2"
      },
      "execution_count": null,
      "outputs": [
        {
          "output_type": "stream",
          "name": "stdout",
          "text": [
            "[[ 3.07705640e+09  3.89500810e+07  4.93039000e+05  6.24100000e+03\n",
            "   7.90000000e+01  1.00000000e+00]\n",
            " [ 7.92351680e+07  2.08513600e+06  5.48720000e+04  1.44400000e+03\n",
            "   3.80000000e+01  1.00000000e+00]\n",
            " [ 0.00000000e+00  0.00000000e+00  0.00000000e+00  0.00000000e+00\n",
            "   0.00000000e+00  1.00000000e+00]\n",
            " [-1.00000000e+10  1.00000000e+08 -1.00000000e+06  1.00000000e+04\n",
            "  -1.00000000e+02  1.00000000e+00]\n",
            " [-2.43000000e+07  8.10000000e+05 -2.70000000e+04  9.00000000e+02\n",
            "  -3.00000000e+01  1.00000000e+00]\n",
            " [ 3.80204032e+08  7.31161600e+06  1.40608000e+05  2.70400000e+03\n",
            "   5.20000000e+01  1.00000000e+00]]\n",
            "1.0 - 30.0·x + 10000.0·x² + 0.0·x³ + 2085136.0·x⁴ + (3.0770564e+09)·x⁵\n"
          ]
        }
      ]
    }
  ]
}