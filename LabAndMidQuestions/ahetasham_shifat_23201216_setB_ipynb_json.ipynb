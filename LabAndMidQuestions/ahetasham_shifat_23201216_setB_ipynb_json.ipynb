{
  "nbformat": 4,
  "nbformat_minor": 0,
  "metadata": {
    "colab": {
      "provenance": []
    },
    "kernelspec": {
      "name": "python3",
      "display_name": "Python 3"
    },
    "language_info": {
      "name": "python"
    }
  },
  "cells": [
    {
      "cell_type": "markdown",
      "source": [
        "Ahetasham Shifat 23201216 cse330\n",
        "\n",
        "```\n",
        "# This is formatted as code\n",
        "```\n",
        "\n"
      ],
      "metadata": {
        "id": "nFG10pxdrclN"
      }
    },
    {
      "cell_type": "markdown",
      "source": [
        "# **Question: 01**(5 Marks)\n",
        "a. Propose a best technique for numerical differentiation that provides higher accuracy than central difference method. You need to write a function for your proposed technique.\n",
        "\n",
        "Let, $$f(x) = x^5 + 2.5x^4 - 2x^3 -6x^2 + x + 2\\tag{2.1}$$\n",
        "\n",
        "b. Using your proposed method, what is the slope of $f(x)$  at $x=0,−1.18625$ and $step size = 0.1$?"
      ],
      "metadata": {
        "id": "rnsAssHulMe0"
      }
    },
    {
      "cell_type": "code",
      "source": [
        "import numpy as np\n",
        "import pandas as pd\n",
        "import matplotlib.pyplot as plt\n",
        "from numpy.polynomial import Polynomial"
      ],
      "metadata": {
        "id": "nBQWnmqTmIuW"
      },
      "execution_count": null,
      "outputs": []
    },
    {
      "cell_type": "code",
      "source": [],
      "metadata": {
        "id": "gHY4Qhr_9gmZ"
      },
      "execution_count": null,
      "outputs": []
    },
    {
      "cell_type": "code",
      "source": [
        "#1a) Proposed method is \"?\"   #Write your answer replacing the question mark\n",
        "print(\"higher accuracy than central difference method is we can say, Richardson Extra polation method\")"
      ],
      "metadata": {
        "id": "cWlkCJD3mJcL",
        "colab": {
          "base_uri": "https://localhost:8080/"
        },
        "outputId": "ef10abbf-32f9-499f-d40e-65bd9d41e639"
      },
      "execution_count": null,
      "outputs": [
        {
          "output_type": "stream",
          "name": "stdout",
          "text": [
            "higher accuracy than central difference method is we can say, richardson extra polation method\n"
          ]
        }
      ]
    },
    {
      "cell_type": "code",
      "source": [
        "#1b\n",
        "def f(x):\n",
        "    return x**5 + 2.5*(x**4)- 2*(x**3) -6*(x**2) +x +2\n",
        "\n",
        "def central_diff(x,h):\n",
        "    return (f(x+h)-f(x-h)/2*h)\n",
        "\n",
        "D_h = central_diff(0,0.1)\n",
        "D_h2 = central_diff(0,0.1/2)     #h/2\n",
        "\n",
        "ans1 = (4*D_h2 - D_h)/3\n",
        "\n",
        "print(f\"Ans01:\",ans1)\n",
        "\n",
        "\n",
        "D_h = central_diff(-1.18625,0.1)\n",
        "D_h2 = central_diff(-1.18625,0.1/2)\n",
        "ans2 = (4*D_h2 - D_h)/3\n",
        "\n",
        "print(f\"Ans02:\",ans2)\n",
        "\n",
        "print(f\"slope\", ans1/ans2)"
      ],
      "metadata": {
        "colab": {
          "base_uri": "https://localhost:8080/"
        },
        "id": "ZvST5a4HsmRd",
        "outputId": "b162ad39-d521-42b2-fa1c-973be1e1b165"
      },
      "execution_count": null,
      "outputs": [
        {
          "output_type": "stream",
          "name": "stdout",
          "text": [
            "Ans01: 1.99979640625\n",
            "Ans02: -1.6607084452213126\n",
            "slope -1.2041827161199865\n"
          ]
        }
      ]
    },
    {
      "cell_type": "markdown",
      "source": [
        "## Question 02\n",
        "\n",
        "\n",
        "The general form of $n$ degree Lagrange polynomial is given by\n",
        "\n",
        "$$p_n(x) = \\sum_{k=0}^n f(x_k)̧\\cdot l_k(x) = \\sum_{k=0}^n y_k\\cdot l_k(x)$$\n",
        "\n",
        "where\n",
        "\n",
        "$$l_k(x) = \\prod_{j=0, j\\neq k}^n \\frac{x-x_j}{x_k-x_j}$$\n",
        "\n",
        "Now, you need to find a polynomial using Lagrange interpolation method, which approximaets $\\sin(x)$ at points $x=-\\pi/4, 0, \\pi/2$\n",
        "\n",
        "**Tasks:**\n",
        "\n",
        "a) Using the `Polynomial` class from the NumPy library, construct the Lagrange basis polynomials $l_0(x), l_1(x)$ and $l_2(x)$ and print them. [3 marks]\n",
        "\n",
        "b) Use the previously constructed basis polynomials to find the interpolated polynomial $p_n(x)$, and print it. [1 mark]\n",
        "\n",
        "c) Evaluate the polynomial $p_n(x)$ at $x=\\pi/3$ and print the result. [1 mark]"
      ],
      "metadata": {
        "id": "7fkc9Wl1VRUY"
      }
    },
    {
      "cell_type": "code",
      "source": [
        "#Write your code from here\n",
        "#Hint: np.sin(x) gives you the value of sin() for any valid input x"
      ],
      "metadata": {
        "id": "usmlunheoHae"
      },
      "execution_count": null,
      "outputs": []
    },
    {
      "cell_type": "code",
      "source": [
        "#Task01--> lagrange BAsis\n",
        "\n",
        "def l_k(data_x, k, x):\n",
        "    cal = 1.0\n",
        "    for j in range(len(data_x)):\n",
        "        if j != k:\n",
        "            cal *= (x - data_x[j]) / (data_x[k] - data_x[j])\n",
        "    return cal\n",
        "\n",
        "\n",
        "def get_poly_lagrange(data_x, data_y):\n",
        "    p_x_val = []\n",
        "    n = len(data_x)\n",
        "\n",
        "    for x in x_vals:\n",
        "        cal = []\n",
        "        for k in range(n):\n",
        "            cal.append(l_k(data_x, k, x))\n",
        "        p_x_val.append(cal)\n",
        "\n",
        "    return p_x_val\n",
        "\n",
        "\n",
        "data_x = [-3.1416/4, 0 , 3.1416/2]\n",
        "data_y = []\n",
        "\n",
        "for x in data_x:\n",
        "    data_y.append(np.sin(x))\n",
        "\n",
        "ans = get_poly_lagrange(data_x, data_y)\n",
        "print(\"lagrange basis\")\n",
        "print(ans)\n",
        "\n",
        "\n"
      ],
      "metadata": {
        "colab": {
          "base_uri": "https://localhost:8080/"
        },
        "id": "EORGmvL31hy0",
        "outputId": "f2a3a718-5886-4750-cd3d-33dfe848ec3c"
      },
      "execution_count": null,
      "outputs": [
        {
          "output_type": "stream",
          "name": "stdout",
          "text": [
            "lagrange basis\n",
            "[[-0.29629629629629634, 0.7777777777777778, 0.5185185185185185]]\n"
          ]
        }
      ]
    },
    {
      "cell_type": "code",
      "source": [
        "#C\n",
        "\n",
        "\n",
        "def l_k(data_x, k, x):\n",
        "    cal = 1.0\n",
        "    for j in range(len(data_x)):\n",
        "        if j != k:\n",
        "            cal *= (x - data_x[j]) / (data_x[k] - data_x[j])\n",
        "    return cal\n",
        "\n",
        "\n",
        "def get_poly_lagrange(data_x, data_y, x_vals):\n",
        "    p_x_val = []\n",
        "    n = len(data_x)\n",
        "\n",
        "    for x in x_vals:\n",
        "        cal = 0.0\n",
        "        for k in range(n):\n",
        "            cal += data_y[k] * l_k(data_x, k, x)\n",
        "        p_x_val.append(cal)\n",
        "\n",
        "    return p_x_val\n",
        "\n",
        "\n",
        "data_x = [-3.1416/4, 0 , 3.1416/2]\n",
        "data_y = []\n",
        "\n",
        "\n",
        "for x in data_x:\n",
        "    data_y.append(np.sin(x))\n",
        "print(data_y)\n",
        "#\n",
        "\n",
        "\n",
        "# task C\n",
        "x_vals = [3.1416/3]\n",
        "ans = get_poly_lagrange(data_x, data_y, x_vals)\n",
        "print(ans)\n",
        "\n"
      ],
      "metadata": {
        "id": "3RFgW_PyoHW6",
        "colab": {
          "base_uri": "https://localhost:8080/"
        },
        "outputId": "cd82a663-ea99-4ae6-d228-4dd432f3e8ab"
      },
      "execution_count": null,
      "outputs": [
        {
          "output_type": "stream",
          "name": "stdout",
          "text": [
            "[np.float64(-0.7071080798594735), np.float64(0.0), np.float64(0.9999999999932537)]\n",
            "[np.float64(0.7280320236585681)]\n"
          ]
        }
      ]
    },
    {
      "cell_type": "markdown",
      "source": [
        "# **Question 3:**\n",
        "\n",
        "You are given the following data points:\n",
        "\n",
        "x = [0, 1, 2]\n",
        "\n",
        "y = [1, 3, 2]\n",
        "\n",
        "You are required to use the Vandermonde matrix method for polynomial interpolation.\n",
        "\n",
        "**Task (i) (2 Marks):**\n",
        "\n",
        "Construct the Vandermonde matrix for the given data points and compute the coefficients of the interpolating polynomial.\n",
        "\n",
        "**Task (ii) (3 Marks):**\n",
        "\n",
        "Using the polynomial coefficients from Task (i):\n",
        "\n",
        "\n",
        "1.   Evaluate the interpolated value at x = 1.5.\n",
        "2.   Plot the original data points and the interpolated polynomial over the interval x = 0 to x = 2.\n"
      ],
      "metadata": {
        "id": "emLoorXupXA0"
      }
    },
    {
      "cell_type": "code",
      "source": [
        "#TAsk01\n",
        "def vandermonde(data_x, data_y):\n",
        "    n = len(data_x)\n",
        "    mat = np.zeros((n,n), dtype=int)\n",
        "\n",
        "    for i in range(n):\n",
        "        for j in range(n):\n",
        "            mat[i][j] = data_x[i] **j\n",
        "\n",
        "    print(mat)\n",
        "    mat_inv = np.linalg.pinv(mat)\n",
        "    a = np.dot(mat_inv,data_y)\n",
        "\n",
        "    return a\n",
        "\n",
        "\n",
        "data_x = [0,1,2]\n",
        "data_y = [1,3,2]\n",
        "\n",
        "coeff = vandermonde(data_x, data_y)\n",
        "print(coeff)\n",
        "\n",
        "p1 = Polynomial(coeff)\n",
        "print(p1)\n",
        "\n",
        "#1\n",
        "print()\n",
        "print(\"taskb\")\n",
        "ans = p1([1.5])  #x = 1.5\n",
        "print(ans)\n",
        "\n",
        "\n",
        "\n"
      ],
      "metadata": {
        "id": "t22LHa23pWQs",
        "colab": {
          "base_uri": "https://localhost:8080/"
        },
        "outputId": "c9d096ad-e658-4294-def6-13cbab879b2e"
      },
      "execution_count": null,
      "outputs": [
        {
          "output_type": "stream",
          "name": "stdout",
          "text": [
            "[[1 0 0]\n",
            " [1 1 1]\n",
            " [1 2 4]]\n",
            "[ 1.   3.5 -1.5]\n",
            "1.0 + 3.5·x - 1.5·x²\n",
            "\n",
            "taskb\n",
            "[2.875]\n"
          ]
        }
      ]
    },
    {
      "cell_type": "code",
      "source": [
        "x_vals = [0,1,2]\n",
        "y_vals = p1([0,1,2])\n",
        "\n",
        "\n",
        "x_vals = np.linspace(0, 2, 200)\n",
        "y_vals = p1(x_vals)\n",
        "\n",
        "plt.plot(x_vals, y_vals)\n",
        "plt.axhline(y=0, color='k')\n",
        "\n",
        "plt.xlabel('x')\n",
        "plt.ylabel('f(x)')\n",
        "\n",
        "plt.show()"
      ],
      "metadata": {
        "colab": {
          "base_uri": "https://localhost:8080/",
          "height": 449
        },
        "id": "0YtOSDlowzoU",
        "outputId": "9386d964-26f5-40de-9125-ed228eac568f"
      },
      "execution_count": null,
      "outputs": [
        {
          "output_type": "display_data",
          "data": {
            "text/plain": [
              "<Figure size 640x480 with 1 Axes>"
            ],
            "image/png": "[encoded data removed]"
          },
          "metadata": {}
        }
      ]
    },
    {
      "cell_type": "markdown",
      "source": [
        "## Question 04 **[2.5 + 2.5 = 5 Marks]**\n",
        "\n",
        "\n",
        "Suppose there is a function, $$ f(x) = x^4 + 3x^3 +2x^2 - 2x + 15$$\n",
        "\n",
        "To analyze the behavior of the Absolute Error when approximating the derivative of the function at **$ x = 5 $** using **Central Difference**, you have to **determine the minimum value of h** that ensures the absolute error stays below a given **tolerance threshold of 0.002463**. Additionally, **calculate how many reductions of $ℎ$** are required to meet this condition.\n",
        "\n",
        "As you already know,\n",
        "1. Central Difference, $f^\\prime(x) = \\frac{f(x+h)-f(x-h)}{2*h}$\n",
        "2. Absolute error = |Actual derivative - Approximate derivative|\n",
        "\n",
        "You should start with an **initial step size of $ℎ = 0.5$** and iteratively **reduce $ℎ$ by one-third**, if necessary, until the error condition is satisfied.\n",
        "\n",
        "**Hint:** You have to use **Polynomial class** from the **numpy** library to define the function, $f(x)$ and Your output should clearly state the **minimum $ℎ$** and the **total number of reductions** required to achieve the desired accuracy.\n"
      ],
      "metadata": {
        "id": "PmxNSILDYHT3"
      }
    },
    {
      "cell_type": "code",
      "source": [
        "p1 = Polynomial([15, -2, 2, 3, 1])\n",
        "\n",
        "print(p1)\n",
        "actual_p1_prime = p1.deriv(1)\n",
        "\n",
        "def central_diff(x,h):\n",
        "    return (p1(x+h)-p1(x-h)/2*h)\n",
        "\n",
        "\n",
        "h = 0.5\n",
        "x = 5\n",
        "\n",
        "error = central_diff(x,h)-actual_p1_prime(x)\n",
        "\n",
        "print(abs(error))\n",
        "\n"
      ],
      "metadata": {
        "id": "OjxFcLp-G2nV",
        "colab": {
          "base_uri": "https://localhost:8080/"
        },
        "outputId": "649fc1ee-8e39-4f8e-9d6d-b4883647a1d0"
      },
      "execution_count": null,
      "outputs": [
        {
          "output_type": "stream",
          "name": "stdout",
          "text": [
            "15.0 - 2.0·x + 2.0·x² + 3.0·x³ + 1.0·x⁴\n",
            "553.203125\n"
          ]
        }
      ]
    },
    {
      "cell_type": "code",
      "source": [
        "\n",
        "p1 = Polynomial([15, -2, 2, 3, 1])\n",
        "actual_p1_prime = p1.deriv(1)\n",
        "\n",
        "h = 0.5\n",
        "x = 5\n",
        "tolerance = 0.002463\n",
        "reductions = 0\n",
        "\n",
        "def central_diff(x, h):\n",
        "    return (p1(x + h) - p1(x - h)) / (2 * h)\n",
        "\n",
        "while True:\n",
        "    approx = central_diff(x, h)\n",
        "    error = abs(actual_p1_prime(x) - approx)\n",
        "\n",
        "    if error <= tolerance:\n",
        "        break\n",
        "    h /= 3\n",
        "    reductions += 1\n",
        "\n",
        "\n",
        "\n",
        "print(f\"minimum h  {h}\")\n",
        "print(f\"number of reductions: {reductions}\")"
      ],
      "metadata": {
        "colab": {
          "base_uri": "https://localhost:8080/"
        },
        "id": "6ts0QW5D6D66",
        "outputId": "0539b68f-1078-43f3-a59f-3dd656763508"
      },
      "execution_count": null,
      "outputs": [
        {
          "output_type": "stream",
          "name": "stdout",
          "text": [
            "Minimum h  0.006172839506172839\n",
            "Number of reductions: 4\n"
          ]
        }
      ]
    }
  ]
}